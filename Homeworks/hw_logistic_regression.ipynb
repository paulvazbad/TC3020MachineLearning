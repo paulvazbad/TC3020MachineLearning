{
 "metadata": {
  "language_info": {
   "codemirror_mode": {
    "name": "ipython",
    "version": 3
   },
   "file_extension": ".py",
   "mimetype": "text/x-python",
   "name": "python",
   "nbconvert_exporter": "python",
   "pygments_lexer": "ipython3",
   "version": "3.9.2"
  },
  "orig_nbformat": 2,
  "kernelspec": {
   "name": "python3",
   "display_name": "Python 3.9.2 64-bit",
   "metadata": {
    "interpreter": {
     "hash": "b3bd98bd4779b4b3c45afeac3dabf8ee8f524b1b4f619c859f65696e5478a81c"
    }
   }
  }
 },
 "nbformat": 4,
 "nbformat_minor": 2,
 "cells": [
  {
   "cell_type": "code",
   "execution_count": 18,
   "metadata": {},
   "outputs": [
    {
     "output_type": "stream",
     "name": "stdout",
     "text": [
      "Requirement already satisfied: custom-ml-implementation==0.0.2 from file:///D:/Documents/TEC/10mo%20semestre/MachineLearning/Project/custom_ml_implementation/dist/custom_ml_implementation-0.0.2-py3-none-any.whl in c:\\users\\pev\\appdata\\local\\programs\\python\\python39\\lib\\site-packages (0.0.2)\n",
      "Requirement already satisfied: numpy in c:\\users\\pev\\appdata\\local\\programs\\python\\python39\\lib\\site-packages (from custom-ml-implementation==0.0.2) (1.20.1)\n",
      "Requirement already satisfied: pandas in c:\\users\\pev\\appdata\\local\\programs\\python\\python39\\lib\\site-packages (from custom-ml-implementation==0.0.2) (1.2.3)\n",
      "Requirement already satisfied: matplotlib in c:\\users\\pev\\appdata\\local\\programs\\python\\python39\\lib\\site-packages (from custom-ml-implementation==0.0.2) (3.3.4)\n",
      "Requirement already satisfied: python-dateutil>=2.7.3 in c:\\users\\pev\\appdata\\local\\programs\\python\\python39\\lib\\site-packages (from pandas->custom-ml-implementation==0.0.2) (2.8.1)\n",
      "Requirement already satisfied: pytz>=2017.3 in c:\\users\\pev\\appdata\\local\\programs\\python\\python39\\lib\\site-packages (from pandas->custom-ml-implementation==0.0.2) (2021.1)\n",
      "Requirement already satisfied: cycler>=0.10 in c:\\users\\pev\\appdata\\local\\programs\\python\\python39\\lib\\site-packages (from matplotlib->custom-ml-implementation==0.0.2) (0.10.0)\n",
      "Requirement already satisfied: kiwisolver>=1.0.1 in c:\\users\\pev\\appdata\\local\\programs\\python\\python39\\lib\\site-packages (from matplotlib->custom-ml-implementation==0.0.2) (1.3.1)\n",
      "Requirement already satisfied: pyparsing!=2.0.4,!=2.1.2,!=2.1.6,>=2.0.3 in c:\\users\\pev\\appdata\\local\\programs\\python\\python39\\lib\\site-packages (from matplotlib->custom-ml-implementation==0.0.2) (2.4.7)\n",
      "Requirement already satisfied: pillow>=6.2.0 in c:\\users\\pev\\appdata\\local\\programs\\python\\python39\\lib\\site-packages (from matplotlib->custom-ml-implementation==0.0.2) (8.1.2)\n",
      "Requirement already satisfied: six>=1.5 in c:\\users\\pev\\appdata\\local\\programs\\python\\python39\\lib\\site-packages (from python-dateutil>=2.7.3->pandas->custom-ml-implementation==0.0.2) (1.15.0)\n",
      "Note: you may need to restart the kernel to use updated packages.\n",
      "WARNING: You are using pip version 20.2.3; however, version 21.0.1 is available.\n",
      "You should consider upgrading via the 'C:\\Users\\pev\\AppData\\Local\\Programs\\Python\\Python39\\python.exe -m pip install --upgrade pip' command.\n"
     ]
    }
   ],
   "source": [
    "pip install ../custom_ml_implementation/dist/custom_ml_implementation-0.0.2-py3-none-any.whl"
   ]
  },
  {
   "cell_type": "code",
   "execution_count": 20,
   "metadata": {},
   "outputs": [],
   "source": [
    "import custom_ml_implementation.LogisticRegression"
   ]
  },
  {
   "cell_type": "code",
   "execution_count": null,
   "metadata": {},
   "outputs": [],
   "source": []
  }
 ]
}